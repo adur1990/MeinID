{
 "cells": [
  {
   "cell_type": "code",
   "execution_count": 2,
   "metadata": {},
   "outputs": [],
   "source": [
    "import glob\n",
    "import json\n",
    "import os\n",
    "import datetime\n",
    "\n",
    "import pandas as pd\n",
    "pd.set_option('display.max_rows', 100)\n",
    "import plotly.express as px"
   ]
  },
  {
   "cell_type": "code",
   "execution_count": 3,
   "metadata": {},
   "outputs": [],
   "source": [
    "DATA_PATH = \"../vwkommi\"\n",
    "\n",
    "json_files = glob.glob(f\"{DATA_PATH}/*.json\")"
   ]
  },
  {
   "cell_type": "code",
   "execution_count": 4,
   "metadata": {},
   "outputs": [],
   "source": [
    "def load_file(path):\n",
    "    file_name = os.path.basename(os.path.splitext(path)[0])\n",
    "    date = file_name.split(\"_\")[-1].split(\"T\")[0]\n",
    "\n",
    "    cars = []\n",
    "\n",
    "    with open(path, \"r\") as f:\n",
    "        json_string = json.loads(f.read())\n",
    "\n",
    "    for komm_num, elems in json_string.items():\n",
    "        car = {\n",
    "            \"Datum\": datetime.datetime.strptime(date, \"%Y-%m-%d\"),\n",
    "            \"Kommissionsnummer\": komm_num,\n",
    "            \"FIN\": \"\",\n",
    "            \"Modell\": \"\",\n",
    "            \"Farbcode\": \"\",\n",
    "            \"Farbe\": \"\",\n",
    "            \"Motor\": \"\",\n",
    "            \"Modelljahr\": \"\",\n",
    "            \"Ausstattung\": \"\",\n",
    "        }\n",
    "\n",
    "        num_elems = len(elems)\n",
    "        for num, elem in zip(range(num_elems), elems):\n",
    "            if num == 0:\n",
    "                try:\n",
    "                    car['FIN'] = elem[\"vin\"]\n",
    "                except KeyError:\n",
    "                    car['FIN'] = \"\"\n",
    "                car['Modell'] = elem[\"modelName\"].split(\" \")[0]\n",
    "                car['Variante'] = ' '.join(elem[\"modelName\"].split(\" \")[1:])\n",
    "                car['Farbcode'] = elem[\"exteriorColor\"]\n",
    "\n",
    "            if num == 1:\n",
    "                car['Motor']  = elem[\"engine\"]\n",
    "                car['Modelljahr']  = elem[\"modelYear\"]\n",
    "                try:\n",
    "                    car['Farbe'] = elem[\"exteriorColorText\"]\n",
    "                except KeyError:\n",
    "                    car['Farbe'] = \"\"\n",
    "\n",
    "                try:\n",
    "                    specifications = elem[\"specifications\"]\n",
    "                    \n",
    "                    specs = []\n",
    "                    for spec in specifications:\n",
    "                        specs.append(spec[\"codeText\"])\n",
    "                    car['Ausstattung'] = specs\n",
    "                except KeyError:\n",
    "                    car['Ausstattung'] = \"\"\n",
    "\n",
    "        cars.append(car)\n",
    "\n",
    "    df = pd.DataFrame(cars)\n",
    "\n",
    "    df = df.explode('Ausstattung')\n",
    "    return df\n"
   ]
  },
  {
   "cell_type": "code",
   "execution_count": 5,
   "metadata": {},
   "outputs": [
    {
     "name": "stdout",
     "output_type": "stream",
     "text": [
      "Parsing ../vwkommi/output_AF_5000-9999_2022-04-09T10.57.49.json (0/74)\n",
      "Parsing ../vwkommi/output_AF_5000-9999_2022-03-29T17.44.56.json (1/74)\n",
      "Parsing ../vwkommi/output_AJ_0-9999_2022-03-05T15.23.25.json (2/74)\n",
      "Parsing ../vwkommi/output_AJ_0-9999_2022-04-23T10.54.17.json (3/74)\n",
      "Parsing ../vwkommi/output_AI_0-9999_2022-03-26T11.27.59.json (4/74)\n",
      "Parsing ../vwkommi/output_AK_0-9999_2022-04-16T10.27.07.json (5/74)\n",
      "Parsing ../vwkommi/output_AF_5000-9999_2022-02-20T09.09.46.json (6/74)\n",
      "Parsing ../vwkommi/output_AG_0-9999_2022-03-19T10.44.38.json (7/74)\n",
      "Parsing ../vwkommi/output_AJ_0-9999_2022-02-27T20.45.14.json (8/74)\n",
      "Parsing ../vwkommi/output_AF_5000-9999_2022-04-16T10.27.07.json (9/74)\n",
      "Parsing ../vwkommi/output_AG_0-9999_2022-02-26T10.48.24.json (10/74)\n",
      "Parsing ../vwkommi/output_AL_0-2000_2022-04-02T11.22.53.json (11/74)\n",
      "Parsing ../vwkommi/output_AJ_0-9999_2022-03-19T10.44.38.json (12/74)\n",
      "Parsing ../vwkommi/output_AH_0-9999_2022-03-12T18.09.59.json (13/74)\n",
      "Parsing ../vwkommi/output_AK_0-9999_2022-03-29T17.44.56.json (14/74)\n",
      "Parsing ../vwkommi/output_AI_0-9999_2022-04-02T11.22.53.json (15/74)\n",
      "Parsing ../vwkommi/output_AL_0-2000_2022-04-02T13.11.21.json (16/74)\n",
      "Parsing ../vwkommi/output_AG_0-9999_2022-03-05T15.23.25.json (17/74)\n",
      "Parsing ../vwkommi/output_AK_0-9999_2022-04-09T10.57.49.json (18/74)\n",
      "Parsing ../vwkommi/output_AG_0-9999_2022-04-23T10.54.17.json (19/74)\n",
      "Parsing ../vwkommi/output_AG_0-9999_2022-03-26T11.27.59.json (20/74)\n",
      "Parsing ../vwkommi/output_AH_0-9999_2022-02-20T09.09.46.json (21/74)\n",
      "Parsing ../vwkommi/output_AJ_0-3000_2022-02-26T10.48.24.json (22/74)\n",
      "Parsing ../vwkommi/output_AI_0-9999_2022-03-19T10.44.38.json (23/74)\n",
      "Parsing ../vwkommi/output_AK_0-9999_2022-03-12T18.09.59.json (24/74)\n",
      "Parsing ../vwkommi/output_AJ_0-9999_2022-04-02T11.22.53.json (25/74)\n",
      "Parsing ../vwkommi/output_AH_0-9999_2022-04-09T10.57.49.json (26/74)\n",
      "Parsing ../vwkommi/output_AH_0-9999_2022-03-29T17.44.56.json (27/74)\n",
      "Parsing ../vwkommi/output_AG_0-9999_2022-04-02T11.22.53.json (28/74)\n",
      "Parsing ../vwkommi/output_AI_0-9999_2022-03-05T15.23.25.json (29/74)\n",
      "Parsing ../vwkommi/output_AF_5000-9999_2022-03-12T18.09.59.json (30/74)\n",
      "Parsing ../vwkommi/output_AI_0-9999_2022-04-23T10.54.17.json (31/74)\n",
      "Parsing ../vwkommi/output_AF_8962-9172_2022-04-06T19.30.17.json (32/74)\n",
      "Parsing ../vwkommi/output_AJ_0-9999_2022-03-26T11.27.59.json (33/74)\n",
      "Parsing ../vwkommi/output_AH_0-9999_2022-04-16T10.27.07.json (34/74)\n",
      "Parsing ../vwkommi/output_AI_0-9999_2022-02-26T10.48.24.json (35/74)\n",
      "Parsing ../vwkommi/output_AI_0-9999_2022-03-29T17.44.56.json (36/74)\n",
      "Parsing ../vwkommi/output_AI_0-9999_2022-04-09T10.57.49.json (37/74)\n",
      "Parsing ../vwkommi/output_AK_0-9999_2022-04-02T11.22.53.json (38/74)\n",
      "Parsing ../vwkommi/output_AJ_0-9999_2022-03-12T18.09.59.json (39/74)\n",
      "Parsing ../vwkommi/output_AH_0-9999_2022-03-19T10.44.38.json (40/74)\n",
      "Parsing ../vwkommi/output_AF_5000-9999_2022-03-26T11.27.59.json (41/74)\n",
      "Parsing ../vwkommi/output_AF_8962-8972_2022-04-06T21.06.06.json (42/74)\n",
      "Parsing ../vwkommi/output_AI_0-9999_2022-02-20T09.09.46.json (43/74)\n",
      "Parsing ../vwkommi/output_AL_0-4000_2022-04-23T10.54.17.json (44/74)\n",
      "Parsing ../vwkommi/output_AE_5000-9999_2022-03-05T21.26.36.json (45/74)\n",
      "Parsing ../vwkommi/output_AI_0-9999_2022-04-16T10.27.07.json (46/74)\n",
      "Parsing ../vwkommi/output_AH_0-9999_2022-02-26T10.48.24.json (47/74)\n",
      "Parsing ../vwkommi/output_AK_0-9999_2022-03-26T11.27.59.json (48/74)\n",
      "Parsing ../vwkommi/output_AF_4000-4999_2022-03-07T15.47.44.json (49/74)\n",
      "Parsing ../vwkommi/output_AJ_0-3000_2022-02-20T09.09.46.json (50/74)\n",
      "Parsing ../vwkommi/output_AH_0-9999_2022-04-23T10.54.17.json (51/74)\n",
      "Parsing ../vwkommi/output_AH_0-9999_2022-03-05T15.23.25.json (52/74)\n",
      "Parsing ../vwkommi/output_AF_5000-9999_2022-04-02T11.22.53.json (53/74)\n",
      "Parsing ../vwkommi/output_AG_0-9999_2022-03-12T18.09.59.json (54/74)\n",
      "Parsing ../vwkommi/output_AL_0-3000_2022-04-09T10.57.49.json (55/74)\n",
      "Parsing ../vwkommi/output_AJ_0-9999_2022-04-16T10.27.07.json (56/74)\n",
      "Parsing ../vwkommi/output_AH_0-9999_2022-03-26T11.27.59.json (57/74)\n",
      "Parsing ../vwkommi/output_AG_0-9999_2022-02-20T09.09.46.json (58/74)\n",
      "Parsing ../vwkommi/output_AF_5000-9999_2022-03-19T10.44.38.json (59/74)\n",
      "Parsing ../vwkommi/output_AK_0-9999_2022-04-23T10.54.17.json (60/74)\n",
      "Parsing ../vwkommi/output_AK_0-9999_2022-03-05T15.23.25.json (61/74)\n",
      "Parsing ../vwkommi/output_AG_0-9999_2022-04-09T10.57.49.json (62/74)\n",
      "Parsing ../vwkommi/output_AG_0-9999_2022-03-29T17.44.56.json (63/74)\n",
      "Parsing ../vwkommi/output_AL_0-3000_2022-04-16T10.27.07.json (64/74)\n",
      "Parsing ../vwkommi/output_AJ_0-9999_2022-04-09T10.57.49.json (65/74)\n",
      "Parsing ../vwkommi/output_AH_0-9999_2022-04-02T11.22.53.json (66/74)\n",
      "Parsing ../vwkommi/output_AJ_0-9999_2022-03-29T17.44.56.json (67/74)\n",
      "Parsing ../vwkommi/output_AF_5000-9999_2022-03-05T15.23.25.json (68/74)\n",
      "Parsing ../vwkommi/output_AF_5000-9999_2022-04-23T10.54.17.json (69/74)\n",
      "Parsing ../vwkommi/output_AI_0-9999_2022-03-12T18.09.59.json (70/74)\n",
      "Parsing ../vwkommi/output_AK_0-9999_2022-03-19T10.44.38.json (71/74)\n",
      "Parsing ../vwkommi/output_AG_0-9999_2022-04-16T10.27.07.json (72/74)\n",
      "Parsing ../vwkommi/output_AF_5000-9999_2022-02-26T10.48.24.json (73/74)\n"
     ]
    }
   ],
   "source": [
    "dfs = []\n",
    "num_files = len(json_files)\n",
    "for file, num in zip(json_files, range(len(json_files))):\n",
    "    print(f\"Parsing {file} ({num}/{num_files})\")\n",
    "    dfs.append(load_file(file))\n",
    "\n",
    "df = pd.concat(dfs)"
   ]
  },
  {
   "cell_type": "code",
   "execution_count": 6,
   "metadata": {},
   "outputs": [],
   "source": [
    "df = df[df[\"Modell\"] != \"Volkswagen\"]\n",
    "df[\"Kommissionsbereich\"] = df[\"Kommissionsnummer\"].str[:2]"
   ]
  },
  {
   "cell_type": "code",
   "execution_count": 7,
   "metadata": {},
   "outputs": [],
   "source": [
    "model_df = df[['Datum', 'Modell', 'Kommissionsnummer']].groupby(['Datum', 'Modell']).nunique().reset_index()"
   ]
  },
  {
   "cell_type": "code",
   "execution_count": 8,
   "metadata": {},
   "outputs": [],
   "source": [
    "fig = px.line(\n",
    "    model_df,\n",
    "    x=\"Datum\",\n",
    "    y=\"Kommissionsnummer\",\n",
    "    color=\"Modell\",\n",
    "    title='Anzahl Fahrzeuge Pro Woche nach Modell',\n",
    "    labels={\n",
    "        \"Kommissionsnummer\": \"Anzahl\",\n",
    "    }\n",
    ")\n",
    "\n",
    "fig.write_html(\"../html/images/model_count.html\", include_plotlyjs=\"cdn\", full_html=False)"
   ]
  },
  {
   "cell_type": "code",
   "execution_count": 9,
   "metadata": {},
   "outputs": [],
   "source": [
    "varianten_df = df[['Datum', 'Modell', \"Variante\", 'Kommissionsnummer']].groupby(['Datum', 'Modell', \"Variante\"]).nunique().reset_index()"
   ]
  },
  {
   "cell_type": "code",
   "execution_count": 10,
   "metadata": {},
   "outputs": [],
   "source": [
    "fig = px.line(\n",
    "    varianten_df,\n",
    "    x=\"Datum\",\n",
    "    y=\"Kommissionsnummer\",\n",
    "    color=\"Variante\",\n",
    "    title='Anzahl Fahrzeuge Pro Woche nach Variante',\n",
    "    facet_col=\"Modell\",\n",
    "    labels={\n",
    "        \"Kommissionsnummer\": \"Anzahl\",\n",
    "    }\n",
    ")\n",
    "\n",
    "fig.write_html(\"../html/images/variants_count.html\", include_plotlyjs=\"cdn\", full_html=False)"
   ]
  },
  {
   "cell_type": "code",
   "execution_count": 11,
   "metadata": {},
   "outputs": [],
   "source": [
    "kommissionsbereich_df = df[['Datum', 'Modell', \"Kommissionsbereich\", 'Kommissionsnummer']].groupby(['Datum', 'Modell', \"Kommissionsbereich\"]).nunique().reset_index()"
   ]
  },
  {
   "cell_type": "code",
   "execution_count": 12,
   "metadata": {},
   "outputs": [],
   "source": [
    "fig = px.line(\n",
    "    kommissionsbereich_df,\n",
    "    x=\"Datum\",\n",
    "    y=\"Kommissionsnummer\",\n",
    "    color=\"Kommissionsbereich\",\n",
    "    title='Anzahl Fahrzeuge Pro Woche nach Kommisionsnummerbereich',\n",
    "    facet_col=\"Modell\",\n",
    "    labels={\n",
    "        \"Kommissionsnummer\": \"Anzahl\",\n",
    "    }\n",
    ")\n",
    "\n",
    "fig.write_html(\"../html/images/kommbereich_count.html\", include_plotlyjs=\"cdn\", full_html=False)"
   ]
  },
  {
   "cell_type": "code",
   "execution_count": 13,
   "metadata": {},
   "outputs": [],
   "source": [
    "fin_df = df[['Datum', 'Modell', 'FIN']].groupby(['Datum', 'Modell']).nunique().reset_index()"
   ]
  },
  {
   "cell_type": "code",
   "execution_count": 14,
   "metadata": {},
   "outputs": [],
   "source": [
    "fig = px.line(\n",
    "    fin_df,\n",
    "    x=\"Datum\",\n",
    "    y=\"FIN\",\n",
    "    color=\"Modell\",\n",
    "    title='Anzahl FINs Pro Woche nach Modell',\n",
    "    labels={\n",
    "        \"FIN\": \"Anzahl\",\n",
    "    }\n",
    ")\n",
    "\n",
    "fig.write_html(\"../html/images/fin_count.html\", include_plotlyjs=\"cdn\", full_html=False)"
   ]
  },
  {
   "cell_type": "code",
   "execution_count": 15,
   "metadata": {},
   "outputs": [],
   "source": [
    "fin_varianten_df = df[['Datum', 'Modell', \"Variante\", 'FIN']].groupby(['Datum', 'Modell', \"Variante\"]).nunique().reset_index()"
   ]
  },
  {
   "cell_type": "code",
   "execution_count": 16,
   "metadata": {},
   "outputs": [],
   "source": [
    "fig = px.line(\n",
    "    fin_varianten_df,\n",
    "    x=\"Datum\",\n",
    "    y=\"FIN\",\n",
    "    color=\"Variante\",\n",
    "    title='Anzahl FINs Pro Woche nach Variante',\n",
    "    facet_col=\"Modell\",\n",
    "    labels={\n",
    "        \"FIN\": \"Anzahl\",\n",
    "    }\n",
    ")\n",
    "\n",
    "fig.write_html(\"../html/images/fin_variants_count.html\", include_plotlyjs=\"cdn\", full_html=False)"
   ]
  },
  {
   "cell_type": "code",
   "execution_count": 17,
   "metadata": {},
   "outputs": [],
   "source": [
    "bereich_varianten_df = df[['Datum', 'Modell', \"Kommissionsbereich\", 'FIN']].groupby(['Datum', 'Modell', \"Kommissionsbereich\"]).nunique().reset_index()"
   ]
  },
  {
   "cell_type": "code",
   "execution_count": 18,
   "metadata": {},
   "outputs": [],
   "source": [
    "fig = px.line(\n",
    "    bereich_varianten_df,\n",
    "    x=\"Datum\",\n",
    "    y=\"FIN\",\n",
    "    color=\"Kommissionsbereich\",\n",
    "    title='Anzahl FINs Pro Woche nach Kommisionsnummerbereich',\n",
    "    facet_col=\"Modell\",\n",
    "    labels={\n",
    "        \"FIN\": \"Anzahl\",\n",
    "    }\n",
    ")\n",
    "\n",
    "fig.write_html(\"../html/images/komm_range_count.html\", include_plotlyjs=\"cdn\", full_html=False)"
   ]
  }
 ],
 "metadata": {
  "interpreter": {
   "hash": "aee8b7b246df8f9039afb4144a1f6fd8d2ca17a180786b69acc140d282b71a49"
  },
  "kernelspec": {
   "display_name": "Python 3.9.12 64-bit",
   "language": "python",
   "name": "python3"
  },
  "language_info": {
   "codemirror_mode": {
    "name": "ipython",
    "version": 3
   },
   "file_extension": ".py",
   "mimetype": "text/x-python",
   "name": "python",
   "nbconvert_exporter": "python",
   "pygments_lexer": "ipython3",
   "version": "3.10.1"
  },
  "orig_nbformat": 4
 },
 "nbformat": 4,
 "nbformat_minor": 2
}
